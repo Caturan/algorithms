{
 "cells": [
  {
   "cell_type": "markdown",
   "metadata": {},
   "source": [
    "# What is Genetic Algorithm and why we need it? \n",
    "Genetic Algorithm is a 5 step algorithm which simulates the process of evolution to find optimal or near-optimal solutions for complex problems. "
   ]
  },
  {
   "cell_type": "markdown",
   "metadata": {},
   "source": [
    "## 1)Overview \n",
    "In genetic algorithm we are defined with a target variable. We have to create a list of random guesses and calculate how close they are to the target. (fitness function). \n",
    "\n",
    "Once we have fitness of all the random guesses, we select the best guesses from our population(selection) based on some criteria. From the selected guesses we randomly select some guesses and swap some info among them (crossover). \n",
    "\n",
    "Now, based on our mutation rate, we may or may not change a randomly selected letter from the crossover list. Finally, our old population would be replaced by new population. "
   ]
  },
  {
   "cell_type": "markdown",
   "metadata": {},
   "source": [
    "## 2)Decoding the Genetic Algo \n"
   ]
  },
  {
   "cell_type": "markdown",
   "metadata": {},
   "source": [
    "### 2.1 Defining terms \n",
    "Random: library \n",
    "Chromosome: A string in population \n",
    "POP_SIZE: Number of Chromosomes in our list. \n",
    "MUT_RATE: Rate at which our string will be changed. \n",
    "TARGET: Our goal. \n",
    "GENES: Options from which our population would be created. "
   ]
  },
  {
   "cell_type": "code",
   "execution_count": null,
   "metadata": {},
   "outputs": [],
   "source": [
    "import random \n",
    "\n",
    "POP_SIZE = 1000\n",
    "MUT_RATE = 0.1\n",
    "TARGET = 'cevdet ahmet turan'\n",
    "GENES = ' abcdefghijklmnopqrsrtuvwxyz'"
   ]
  },
  {
   "cell_type": "markdown",
   "metadata": {},
   "source": [
    "We will reach the target string (rayan ali) using the genes a-z plus space. "
   ]
  },
  {
   "cell_type": "markdown",
   "metadata": {},
   "source": [
    "### 2.2 Initialization"
   ]
  },
  {
   "cell_type": "code",
   "execution_count": null,
   "metadata": {},
   "outputs": [],
   "source": [
    "def initialize_pop(TARGET):\n",
    "    population = list()\n",
    "    tar_len = len(TARGET)\n",
    "\n",
    "    for i in range(POP_SIZE):\n",
    "        temp = list()\n",
    "        for j in range(tar_len):\n",
    "            temp.append(random.choice(GENES))\n",
    "        population.append(temp)\n",
    "\n",
    "    return population"
   ]
  },
  {
   "cell_type": "markdown",
   "metadata": {},
   "source": [
    "Generating a population of size equal to TARGETS length. Each of the string in population would be called \"Chromosome\" and each Chrosome cosnsist of only the letters defined in GENES. \n",
    "\n",
    "This function returns initial population. "
   ]
  },
  {
   "cell_type": "markdown",
   "metadata": {},
   "source": [
    "### 2.3 Fitness Calculation"
   ]
  },
  {
   "cell_type": "code",
   "execution_count": null,
   "metadata": {},
   "outputs": [],
   "source": [
    "def fitness_cal(TARGET, chromo_from_pop):\n",
    "  difference = 0\n",
    "  for tar_char, chromo_char in zip(TARGET, chromo_from_pop):\n",
    "      if tar_char != chromo_char:\n",
    "          difference+=1 \n",
    "  return [chromo_from_pop, difference]"
   ]
  },
  {
   "cell_type": "markdown",
   "metadata": {},
   "source": [
    "We calculate fitness by comparing number of letters matching the target. Our method for fitness is to calculate difference between each chromosome and target. More fitness means far from target (0 fitness means target found). \n",
    "\n",
    "This function returns chromosomes along with their fitness level. "
   ]
  },
  {
   "cell_type": "markdown",
   "metadata": {},
   "source": [
    "### 2.4 Selection"
   ]
  },
  {
   "cell_type": "code",
   "execution_count": null,
   "metadata": {},
   "outputs": [],
   "source": [
    "def selection(population, TARGET):\n",
    "    sorted_chromo_pop = sorted(population, key= lambda x: x[1])\n",
    "    return sorted_chromo_pop[:int(0.5*POP_SIZE)]"
   ]
  },
  {
   "cell_type": "markdown",
   "metadata": {},
   "source": [
    "To select the best chromosomes we need to sort them in ascending order as per our fitness definition. We are returning only the top 50% of the population to avoid bad chromosomes from entering future population. \n",
    "\n",
    "This function returns top 50% population sorted according to fitness. "
   ]
  },
  {
   "cell_type": "markdown",
   "metadata": {},
   "source": [
    "### 2.5 Crossover"
   ]
  },
  {
   "cell_type": "code",
   "execution_count": null,
   "metadata": {},
   "outputs": [],
   "source": [
    "def crossover(selected_choromo, CHROMO_LEN, population):\n",
    "    offspring_cross = []\n",
    "    for i in range(int(POP_SIZE)):\n",
    "        parent1 = random.choice(selected_choromo)\n",
    "        parent2 = random.choice(population[:int(POP_SIZE*50)])\n",
    "\n",
    "        p1 = parent1[0]\n",
    "        p2 = parent2[0]\n",
    "\n",
    "        crossover_point = random.randint(1, CHROMO_LEN-1)\n",
    "        child = p1[:crossover_point] + p2[crossover_point:]\n",
    "        offspring_cross.extend([child])\n",
    "    return offspring_cross"
   ]
  },
  {
   "cell_type": "markdown",
   "metadata": {},
   "source": [
    "This function will randomly selected one parent from best chromosomes and one parent from the initial population. A crossover point defines the point from where info will be swapped among the parents to produce and offspring. This process adds diversity to our population. \n",
    "\n",
    "This function will return a list of offspring with a length equal to the length of initial population. "
   ]
  },
  {
   "cell_type": "markdown",
   "metadata": {},
   "source": [
    "### 2.6 Mutation "
   ]
  },
  {
   "cell_type": "code",
   "execution_count": null,
   "metadata": {},
   "outputs": [],
   "source": [
    "def mutate(offspring, MUT_RATE):\n",
    "    mutated_offspring = []\n",
    "\n",
    "    for arr in offspring:\n",
    "        for i in range(len(arr)):\n",
    "            if random.random() < MUT_RATE:\n",
    "                arr[i] = random.choice(GENES)\n",
    "            mutated_offspring.append(arr)\n",
    "    return mutated_offspring"
   ]
  },
  {
   "cell_type": "markdown",
   "metadata": {},
   "source": [
    "We will now perform mutation with the crossover population. Mutation means we will randomly select a letter from each chromosome and replace it with another letter present in the GENES. The replacement probality depends on MUT_RATE and random number generated on each iteration. \n",
    "\n",
    "This function would return a mutated list of population. "
   ]
  },
  {
   "cell_type": "markdown",
   "metadata": {},
   "source": [
    "### 2.7 Replacement"
   ]
  },
  {
   "cell_type": "code",
   "execution_count": null,
   "metadata": {},
   "outputs": [],
   "source": [
    "def replace(new_gen, population):\n",
    "    for _ in range(len(population)):\n",
    "        if population[_][1] > new_gen[_][1]:\n",
    "            population[_][0] = new_gen[_][0]\n",
    "            population[_][1] = new_gen[_][1]\n",
    "    return population"
   ]
  },
  {
   "cell_type": "markdown",
   "metadata": {},
   "source": [
    "Now we have 2 types of population. \n",
    "First consist of the initial population and the second consist of new generation. New gen is mutated population sorted according to its fitness score. \n",
    "\n",
    "Replce function loops over each chromosome in population and compares it with our new gen. If our new gen has a better (lesser) fitness score, it will replace the chromosome present in the initial population else it will continue to keep old chromosome. \n",
    "\n",
    "This function will return the best chromosome from our initial population and new gen. "
   ]
  },
  {
   "cell_type": "markdown",
   "metadata": {},
   "source": [
    "### Main"
   ]
  },
  {
   "cell_type": "code",
   "execution_count": null,
   "metadata": {},
   "outputs": [],
   "source": [
    "\n",
    "def main(POP_SIZE, MUT_RATE, TARGET, GENES):\n",
    "    # 1) initialize population\n",
    "    initial_population = initialize_pop(TARGET)\n",
    "    found = False\n",
    "    population = []\n",
    "    generation = 1\n",
    "\n",
    "    # 2) Calculating the fitness for the current population\n",
    "    for _ in range(len(initial_population)):\n",
    "        population.append(fitness_cal(TARGET, initial_population[_]))\n",
    "\n",
    "    # now population has 2 things, [chromosome, fitness]\n",
    "    # 3) now we loop until TARGET is found\n",
    "    while not found:\n",
    "\n",
    "      # 3.1) select best people from current population\n",
    "      selected = selection(population, TARGET)\n",
    "\n",
    "      # 3.2) mate parents to make new generation\n",
    "      population = sorted(population, key= lambda x:x[1])\n",
    "      crossovered = crossover(selected, len(TARGET), population)\n",
    "            \n",
    "      # 3.3) mutating the childeren to diversfy the new generation\n",
    "      mutated = mutate(crossovered, MUT_RATE)\n",
    "\n",
    "      new_gen = []\n",
    "      for _ in mutated:\n",
    "          new_gen.append(fitness_cal(TARGET, _))\n",
    "\n",
    "      # 3.4) replacement of bad population with new generation\n",
    "      # we sort here first to compare the least fit population with the most fit new_gen\n",
    "\n",
    "      population = replace(new_gen, population)\n",
    "\n",
    "      \n",
    "      if (population[0][1] == 0):\n",
    "        print('Target found')\n",
    "        print('String: ' + str(population[0][0]) + ' Generation: ' + str(generation) + ' Fitness: ' + str(population[0][1]))\n",
    "        break\n",
    "      print('String: ' + str(population[0][0]) + ' Generation: ' + str(generation) + ' Fitness: ' + str(population[0][1]))\n",
    "      generation+=1\n",
    "\n",
    "#main(POP_SIZE, MUT_RATE, TARGET, GENES)"
   ]
  },
  {
   "cell_type": "code",
   "execution_count": null,
   "metadata": {},
   "outputs": [],
   "source": [
    "if __name__ == \"__main__\":\n",
    "    main(POP_SIZE, MUT_RATE, TARGET, GENES)"
   ]
  },
  {
   "cell_type": "markdown",
   "metadata": {},
   "source": [
    "### 4) Tips \n",
    "Genes and Target:\n",
    "Our target should only contain letters from genes, else there would be no way to achieve the target. This would cause the code to run in an infinite while loop. \n",
    "\n",
    "Mutation Rate: \n",
    "Mutation rate can be changed per need. According to our mutation rate and function, greater mutation rate means more probality of mutation in a chromosome. \n",
    "\n",
    "Population Size: \n",
    "A simple way to reduce number of generations is to increase population size. \n",
    "Greater number of population means more variance which means more chances to reach the target string. "
   ]
  }
 ],
 "metadata": {
  "kernelspec": {
   "display_name": "Python 3",
   "language": "python",
   "name": "python3"
  },
  "language_info": {
   "codemirror_mode": {
    "name": "ipython",
    "version": 3
   },
   "file_extension": ".py",
   "mimetype": "text/x-python",
   "name": "python",
   "nbconvert_exporter": "python",
   "pygments_lexer": "ipython3",
   "version": "3.10.8"
  }
 },
 "nbformat": 4,
 "nbformat_minor": 2
}
