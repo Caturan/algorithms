{
 "cells": [
  {
   "cell_type": "markdown",
   "metadata": {},
   "source": [
    "# Graph Traversal\n",
    "Graf traversalleri, bir grafiğin düğümlerini belirli bir sıra veya desenle ziyaret etmek için kullanılan algoritmalardır. En yaygın kullanılan graph traversal yöntemleri:\n",
    "* Breadth-First Search\n",
    "* Depth-First Search\n",
    "* Topological Sort\n",
    "* Minimum Spanning Tree\n",
    "* Shortest Path "
   ]
  },
  {
   "cell_type": "markdown",
   "metadata": {},
   "source": [
    "### Graph Traversal & BFS \n",
    "BFS, bir grafın düğümlerini seviye seviye ziyaret eden bir algoritmadır. Bir başlangıç düğümünden başlayarak, komşu düğümleri önce keşfeder ve daha sonra bir sonraki seviyedeki düğümlere geçer. "
   ]
  },
  {
   "cell_type": "code",
   "execution_count": 1,
   "metadata": {},
   "outputs": [
    {
     "name": "stdout",
     "output_type": "stream",
     "text": [
      "BFS Gezisi:\n",
      "A\n",
      "B\n",
      "C\n",
      "D\n",
      "E\n",
      "F\n"
     ]
    }
   ],
   "source": [
    "from collections import deque \n",
    "\n",
    "def bfs(graph, start):\n",
    "    visited = set()            # Ziyaret edilen düğümleri takip etmek için bir küme\n",
    "    queue = deque([start])     # BFS, de kullanılan kuyruk (dequeu)\n",
    "    visited.add(start)         # Başlangıç düğümünü ziyaret edildi olarak işaretle\n",
    "\n",
    "    while queue:                 # Kuyruk boş olana kadar devam et\n",
    "        node = queue.popleft()   # Kuyruğun başındaki düğümü al \n",
    "        print(node)              # Düğümü ziyaret et\n",
    "        \n",
    "        # Düğümün komşularını kontrol et\n",
    "        for neighbor in graph[node]:\n",
    "            if neighbor not in visited:\n",
    "                visited.add(neighbor)   # Komşuyu ziyaret edildi olarak işaretle\n",
    "                queue.append(neighbor)  # Kuyruğa ekle\n",
    "\n",
    "graph = {\n",
    "    'A': ['B', 'C'],\n",
    "    'B': ['A', 'D', 'E'],\n",
    "    'C': ['A', 'F'],\n",
    "    'D': ['B'],\n",
    "    'E': ['B', 'F'],\n",
    "    'F': ['C', 'E']\n",
    "}\n",
    "# Grafı başlangıç düğümü 'A' ile BFS algoritması kullanarak gez\n",
    "print(\"BFS Gezisi:\")\n",
    "bfs(graph, 'A')"
   ]
  },
  {
   "cell_type": "markdown",
   "metadata": {},
   "source": [
    "### Graph Traversal & DFS\n",
    "DFS, bir grafın düğümlerini bir dalı sonuna kadar keşfeden bir algoritmadır.\n",
    "Bir düğümün tüm komşularını keşfettikten sonra, bir sonraki düğüme geçmeden önce bu dalın sonuna kadar iner."
   ]
  },
  {
   "cell_type": "code",
   "execution_count": 1,
   "metadata": {},
   "outputs": [
    {
     "name": "stdout",
     "output_type": "stream",
     "text": [
      "ABDEFC"
     ]
    }
   ],
   "source": [
    "def dfs(graph, start, visited=None):\n",
    "    if visited is None:\n",
    "        visited = set()\n",
    "    visited.add(start)\n",
    "    print(start, end='')\n",
    "\n",
    "    for neighbor in graph[start]:\n",
    "        if neighbor not in visited:\n",
    "            dfs(graph, neighbor, visited)\n",
    "\n",
    "# Örnek \n",
    "graph = {\n",
    "    'A': ['B', 'C'],\n",
    "    'B': ['A', 'D', 'E'],\n",
    "    'C': ['A', 'F'],\n",
    "    'D': ['B'],\n",
    "    'E': ['B', 'F'],\n",
    "    'F': ['C', 'E']\n",
    "}\n",
    "\n",
    "dfs(graph, 'A')"
   ]
  },
  {
   "cell_type": "markdown",
   "metadata": {},
   "source": [
    "### Graph Traversal & Topological Sort \n",
    "Topolojik sıralama, bir grafın düğümlerini bir sıralamaya göre ziyaret etmek için kullanılan bir algoritmadır. Bu sıralama, grafın düğümlerinin birbirlerine bağlı olduğu ilişkileri korur. "
   ]
  },
  {
   "cell_type": "code",
   "execution_count": 2,
   "metadata": {},
   "outputs": [
    {
     "name": "stdout",
     "output_type": "stream",
     "text": [
      "['B', 'A', 'D', 'E', 'C']\n"
     ]
    }
   ],
   "source": [
    "from collections import defaultdict \n",
    "\n",
    "def topological_sort(graph):\n",
    "    visited = set()\n",
    "    stack = []\n",
    "\n",
    "    def dfs(node):\n",
    "        visited.add(node)\n",
    "        for neighbor in graph[node]:\n",
    "            if neighbor not in visited:\n",
    "                dfs(neighbor)\n",
    "        stack.append(node)\n",
    "\n",
    "    for node in graph:\n",
    "        if node not in visited:\n",
    "            dfs(node)\n",
    "    \n",
    "    return stack[::-1]\n",
    "\n",
    "# Örnek \n",
    "graph = {\n",
    "    'A': ['C', 'D'],\n",
    "    'B': ['D'],\n",
    "    'C': [],\n",
    "    'D': ['E'],\n",
    "    'E': []\n",
    "}\n",
    "\n",
    "print(topological_sort(graph))"
   ]
  },
  {
   "cell_type": "markdown",
   "metadata": {},
   "source": [
    "### Graph Traversal & Minimum Spanning Tree\n",
    "Bir grafın tüm düğümlerini ve kenarlarını içeren, ağırlıklı kenarlarla birleştirilmiş en küçük alt grafı ifade eder. "
   ]
  },
  {
   "cell_type": "code",
   "execution_count": 3,
   "metadata": {},
   "outputs": [
    {
     "name": "stdout",
     "output_type": "stream",
     "text": [
      "[('A', 'B', 1), ('B', 'C', 2), ('C', 'D', 1)]\n"
     ]
    }
   ],
   "source": [
    "from heapq import heappush, heappop\n",
    "\n",
    "def prim(graph):\n",
    "    mst = []\n",
    "    visited = set()\n",
    "    start_node = next(iter(graph))\n",
    "    visited.add(start_node)\n",
    "    heap = [(weight, start_node, neighbor) for neighbor, weight in graph[start_node]]\n",
    "\n",
    "    while heap:\n",
    "        weight, node1, node2 = heappop(heap)\n",
    "        if node2 not in visited:\n",
    "            visited.add(node2)\n",
    "            mst.append((node1, node2, weight))\n",
    "            for neighbor, w in graph[node2]:\n",
    "                if neighbor not in visited:\n",
    "                    heappush(heap, (w, node2, neighbor))\n",
    "\n",
    "    return mst \n",
    "\n",
    "graph = {\n",
    "    'A': [('B', 1), ('C', 4)],\n",
    "    'B': [('A', 1), ('C', 2), ('D', 5)],\n",
    "    'C': [('A', 4), ('B', 2), ('D', 1)],\n",
    "    'D': [('B', 5), ('C', 1)]\n",
    "}\n",
    "\n",
    "print(prim(graph)) \n"
   ]
  },
  {
   "cell_type": "markdown",
   "metadata": {},
   "source": [
    "### Graph Traversal & Shortest Path (dijkstra)\n",
    "Bir graf içinde iki düğüm arasındaki en kısa yolu bulmak için kullanılır."
   ]
  },
  {
   "cell_type": "code",
   "execution_count": 4,
   "metadata": {},
   "outputs": [
    {
     "name": "stdout",
     "output_type": "stream",
     "text": [
      "{'A': 0, 'B': 1, 'C': 3, 'D': 4}\n"
     ]
    }
   ],
   "source": [
    "import heapq\n",
    "\n",
    "def dijkstra(graph, start):\n",
    "    distances = {node: float('inf') for node in graph}\n",
    "    distances[start] = 0\n",
    "    pq = [(0, start)]\n",
    "\n",
    "    while pq:\n",
    "        current_distance, current_node = heapq.heappop(pq)\n",
    "        if current_distance > distances[current_node]:\n",
    "            continue\n",
    "        for neighbor, weight in graph[current_node]:\n",
    "            distance = current_distance + weight \n",
    "            if distance < distances[neighbor]:\n",
    "                distances[neighbor] = distance\n",
    "                heapq.heappush(pq, (distance, neighbor))\n",
    "    \n",
    "    return distances\n",
    "\n",
    "# Örnek graf: {'A': [('B', 1), ('C', 4)], 'B': [('A', 1), ('C', 2), ('D', 5)], ...}\n",
    "graph = {\n",
    "    'A': [('B', 1), ('C', 4)],\n",
    "    'B': [('A', 1), ('C', 2), ('D', 5)],\n",
    "    'C': [('A', 4), ('B', 2), ('D', 1)],\n",
    "    'D': [('B', 5), ('C', 1)]\n",
    "}\n",
    "\n",
    "print(dijkstra(graph, 'A')) \n"
   ]
  }
 ],
 "metadata": {
  "kernelspec": {
   "display_name": "Python 3",
   "language": "python",
   "name": "python3"
  },
  "language_info": {
   "codemirror_mode": {
    "name": "ipython",
    "version": 3
   },
   "file_extension": ".py",
   "mimetype": "text/x-python",
   "name": "python",
   "nbconvert_exporter": "python",
   "pygments_lexer": "ipython3",
   "version": "3.10.8"
  }
 },
 "nbformat": 4,
 "nbformat_minor": 2
}
