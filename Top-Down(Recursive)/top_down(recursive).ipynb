{
 "cells": [
  {
   "cell_type": "markdown",
   "metadata": {},
   "source": [
    "# Top-Down (Recursive)"
   ]
  },
  {
   "cell_type": "markdown",
   "metadata": {},
   "source": [
    "Top-Down yaklaşımı, genellikle özyinelemeli (recursive) bir yöntem kullanır ve memoization (hafızaya alma) ile desteklenir. \n",
    "1. Problemi Bölme: Ana problem, daha küçük alt problemlere bölünür. \n",
    "2. Özyineleme (Recursion): Ana problem, alt problemlerin özyinelemeli olarak çözülmesiyle çözülür. \n",
    "3. Memoization: Daha önce çözülen alt problemlerin sonuçları, tekrar hesaplamamak için hafızada saklanır. \n",
    "\n",
    "Bu yöntem problemin çözümüne en üst seviyeden (ana problmenden) başlar ve alt problemlere doğru iner. "
   ]
  },
  {
   "cell_type": "code",
   "execution_count": 14,
   "metadata": {},
   "outputs": [
    {
     "name": "stdout",
     "output_type": "stream",
     "text": [
      "55\n"
     ]
    }
   ],
   "source": [
    "def fib(n, memo={}):\n",
    "    if n in memo:\n",
    "        return memo[n]\n",
    "    if n <= 1:\n",
    "        return n \n",
    "    memo[n] = fib(n-1, memo) + fib(n-2, memo)\n",
    "    return memo[n]\n",
    "\n",
    "print(fib(10))"
   ]
  }
 ],
 "metadata": {
  "kernelspec": {
   "display_name": "Python 3",
   "language": "python",
   "name": "python3"
  },
  "language_info": {
   "codemirror_mode": {
    "name": "ipython",
    "version": 3
   },
   "file_extension": ".py",
   "mimetype": "text/x-python",
   "name": "python",
   "nbconvert_exporter": "python",
   "pygments_lexer": "ipython3",
   "version": "3.10.8"
  }
 },
 "nbformat": 4,
 "nbformat_minor": 2
}
