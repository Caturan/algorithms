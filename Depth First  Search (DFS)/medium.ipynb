{
 "cells": [
  {
   "cell_type": "markdown",
   "metadata": {},
   "source": [
    "# Depth First Search (DFS)"
   ]
  },
  {
   "cell_type": "markdown",
   "metadata": {},
   "source": [
    "DFS, grafiklerde veya ağaçlarda kullanılan bir arama algoritmasıdır. DFS, başlangıç düğümünden başlayarak, mümkün olduğunca derine iner ve daha sonra geri adım atarak (backtrack) diğer yolları araştırır. DFS iki şekilde uygulanabilir:\n",
    "1. Öz yinelemeli (Recursive) Yaklaşım\n",
    "2. Yığın (Stack) Kullanarak  İteratif Yaklaşım"
   ]
  },
  {
   "cell_type": "code",
   "execution_count": 4,
   "metadata": {},
   "outputs": [],
   "source": [
    "#  PreOrder Traversal \n",
    "# Node -> Left -> Right \n",
    "def preOrder(node):\n",
    "    if node is None:\n",
    "        return \n",
    "    print(node.value)  # 1. Kök düğümünü ziyaret et. \n",
    "    preOrder(node.left) # 2. Sol alt ağacı ziyaret et. \n",
    "    preOrder(node.right) # 3. Sağ alt ağacı ziyaret et. "
   ]
  },
  {
   "cell_type": "code",
   "execution_count": 6,
   "metadata": {},
   "outputs": [],
   "source": [
    "# InOrder Traversal \n",
    "# Left -> Node -> Right \n",
    "def inOrder(node):\n",
    "    if  node is None:\n",
    "        return  \n",
    "    inOrder(node.left) # 1. Sol alt ağacı ziyaret et. \n",
    "    print(node.value)  # 2. Kök düğümünü ziyaret et. \n",
    "    inOrder(node.right) # 3. Sağ alt ağacı ziyaret et. "
   ]
  },
  {
   "cell_type": "code",
   "execution_count": 7,
   "metadata": {},
   "outputs": [],
   "source": [
    "# PostOrder Traversal \n",
    "# Left -> Right -> Node \n",
    "def postOrder(node):\n",
    "    if node is None:\n",
    "        return \n",
    "    postOrder(node.left) # 1. Sol alt ağacı ziyaret et.\n",
    "    postOrder(node.right) # 2. Sağ alt ağacı ziyaret et. \n",
    "    postOrder(node.value) # 3. Kök düğümü ziyaret  et. "
   ]
  },
  {
   "cell_type": "markdown",
   "metadata": {},
   "source": [
    "## LevelOrder Traversal (BFS)"
   ]
  },
  {
   "cell_type": "markdown",
   "metadata": {},
   "source": [
    "LevelOrder traversal, her düğüm, ağacın seviyelerine göre ziyaret edilir. İlk önce kök düğüm, sonra birinci seviyedeki düğümler, sonra ikinci seviyedeki düğümler vb. ziyaret edilir. Bu genellikle BFS(breadth first search) kullanılarak yapılır."
   ]
  },
  {
   "cell_type": "code",
   "execution_count": 8,
   "metadata": {},
   "outputs": [],
   "source": [
    "from collections import deque\n",
    "def levelOrder(root):\n",
    "    if root is None:\n",
    "        return \n",
    "    queue = dequeu([root])\n",
    "    while queue:\n",
    "        node =  queue.popleft()\n",
    "        print(node.value)\n",
    "        if node.left:\n",
    "            queue.append(node.left)\n",
    "        if node.right:\n",
    "            queue.append(node.right)"
   ]
  }
 ],
 "metadata": {
  "kernelspec": {
   "display_name": "Python 3",
   "language": "python",
   "name": "python3"
  },
  "language_info": {
   "codemirror_mode": {
    "name": "ipython",
    "version": 3
   },
   "file_extension": ".py",
   "mimetype": "text/x-python",
   "name": "python",
   "nbconvert_exporter": "python",
   "pygments_lexer": "ipython3",
   "version": "3.10.8"
  }
 },
 "nbformat": 4,
 "nbformat_minor": 2
}
