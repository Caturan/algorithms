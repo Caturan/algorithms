{
 "cells": [
  {
   "cell_type": "markdown",
   "metadata": {},
   "source": [
    "Sürü psikilojisi, yiyecek ararken kullandıkları şekil. Arama şekilleri. Internet routing, GPS systems, edge detection, pherome release, phereomone evaporation, hepsi farklı yollara dağılıyorlar,\n",
    "yiyeceği bulan sürekli git gel yaptığı için pheromone miktarı artıyor bulan karınca için. iki köprü deneyi, phereomone miktarında ki değişimi gören karıncalar daha kısa yolu devamında tercih ediyorlar. İkinci bir deneyde kısa yol kapatılıyor sonra hepsi uzun yolu kullanıyorlar. Sonra kısa yolu tekrar açıyorlar ama pherome miktarı kısa yolda hiç olmadığı için uzun yoldan devam ediyorlar. pheromone miktarı  ve buharlaşması önemli. karıncanın a noktasından sonrası gideceği yol, formül hesabı final. "
   ]
  },
  {
   "cell_type": "markdown",
   "metadata": {},
   "source": [
    "# What is Ant Colony Optimization? \n",
    "- Probabilistic technique. \n",
    "- Searching for optimal path in the graph based on behaviour of ants seeking a path between their colony and source of food. \n",
    "- Meta-heuristic optimazation. "
   ]
  },
  {
   "cell_type": "markdown",
   "metadata": {},
   "source": [
    "## Overview of the Concept \n",
    "- Ants navigate from nest to food source. Ants are blind! \n",
    "- Shortes path is discovered via pheromone trails. \n",
    "- Each ant moves at random. \n",
    "- Pheromone is deposited on path. \n",
    "- More pheromone on path increases probality of path being followed. "
   ]
  },
  {
   "cell_type": "markdown",
   "metadata": {},
   "source": [
    "## Overview of the System \n",
    "- Virtual trail accumulated on path segments. \n",
    "- Path selected at random based on amount of \"trail\" present on possible paths from starting node. \n",
    "- Ant reaches next node, selects next path. \n",
    "- Continues until reaches starting node. \n",
    "- Finished tour is a solution. \n",
    "- Tour is analyzed for optimality. "
   ]
  },
  {
   "cell_type": "markdown",
   "metadata": {},
   "source": [
    "### Meta-heuristic \n",
    "1. Heuristic method for solving a very general class of computational problems by combining user-given heuristics in the hope of obtaining a more efficient procedure. \n",
    "2. ACO is meta-heuristic. \n",
    "3. Soft computing technique for solving hard discrete optimization problems. "
   ]
  },
  {
   "cell_type": "markdown",
   "metadata": {},
   "source": [
    "### Application of ACO \n",
    "- Routing in telecomunication networks. \n",
    "- Traveling Salesman \n",
    "- Graph Coloring \n",
    "- Scheduling \n",
    "- Constraint Satisfaction "
   ]
  },
  {
   "cell_type": "markdown",
   "metadata": {},
   "source": [
    "### Advantages of ACO \n",
    "- Inherent parallelism \n",
    "- Positive Feedbach accounts for rapid discovery of good solutions. \n",
    "- Efficient for Traveling Salesman Problem and similar problems. \n",
    "- Can be used in dynamic applications (adapts to changes such as new distances, etc)"
   ]
  },
  {
   "cell_type": "markdown",
   "metadata": {},
   "source": [
    "### Disadvantages of ACO \n",
    "- Theoretical analysis is difficult.\n",
    "- Sequences of random decisions (not independent)\n",
    "- Probality distribution changes by iteration. \n",
    "- Research is experimental rather than theoretical. \n",
    "- Time to convergence uncertain (but convergence is guaranteed!) "
   ]
  }
 ],
 "metadata": {
  "language_info": {
   "name": "python"
  }
 },
 "nbformat": 4,
 "nbformat_minor": 2
}
