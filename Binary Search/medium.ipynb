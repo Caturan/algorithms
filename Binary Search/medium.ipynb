{
 "cells": [
  {
   "cell_type": "markdown",
   "metadata": {},
   "source": [
    "# Binary Search"
   ]
  },
  {
   "cell_type": "markdown",
   "metadata": {},
   "source": [
    "Binary Search, sıralanmış bir dizide veya listede belirli bir hedef değeri bulmak için kullanılan verimli bir arama algoritmasıdır. Bu algoritma, diziyi sürekli olarak yarıya indirerek arama işlemini gerçekleştirir. İkili arama algoritması, zaman karmaşıklığı O(log n). \n",
    "1. Başlangıç: Dizi sıralanmış olmalıdır. \n",
    "2. Orta Elemanı Bulma: Arama aralığındaki orta elemanı bulunur. \n",
    "3. Karşılaştırma: \n",
    "    - Eğer orta eleman hedef değere eşitse, hedef bulunmuş demektir. \n",
    "    - Eğer hedef değer orta elemandan küçükse, arama aralığını orta elemanın soluna daraltılır. \n",
    "    - Eğer hedef değer orta elemandan büyükse, arama aralığını orta elemanın sağına daraltılır. \n",
    "    1. Tekrar: Arama aralığı daraltılarak adımlar tekrarlanır. Arama aralığı boşaldığında hedef değerin dizide olmadığı anlaşılır. "
   ]
  },
  {
   "cell_type": "code",
   "execution_count": 9,
   "metadata": {},
   "outputs": [
    {
     "name": "stdout",
     "output_type": "stream",
     "text": [
      "3\n"
     ]
    }
   ],
   "source": [
    "# İteratif (Bottom-Up)\n",
    "def binary_search_iterative(arr, target):\n",
    "    left, right = 0, len(arr) - 1 \n",
    "\n",
    "    while left <= right:\n",
    "        mid = (left + right) // 2 \n",
    "        if arr[mid] == target:\n",
    "            return mid \n",
    "        elif arr[mid] < target:\n",
    "            left = mid + 1 \n",
    "        else:\n",
    "            right = mid - 1\n",
    "    \n",
    "    return -1 # Hedef bulunamadı \n",
    "\n",
    "# Örnek kullanım \n",
    "arr = [1,3,5,7,9,11,13,15]\n",
    "target = 7 \n",
    "print(binary_search_iterative(arr, target))"
   ]
  },
  {
   "cell_type": "code",
   "execution_count": 10,
   "metadata": {},
   "outputs": [
    {
     "name": "stdout",
     "output_type": "stream",
     "text": [
      "3\n"
     ]
    }
   ],
   "source": [
    "# Recursive (Top-Down)\n",
    "def binary_search_recursive(arr, target, left, right):\n",
    "    if left > right:\n",
    "        return -1 # Hedef bulunamadı \n",
    "    \n",
    "    mid = (left + right) // 2 \n",
    "    if arr[mid] == target:\n",
    "        return mid \n",
    "    elif arr[mid] < target:\n",
    "        return binary_search_recursive(arr, target, mid + 1, right)\n",
    "    else: \n",
    "        return binary_search_recursive(arr, target, left, mid-1)\n",
    "\n",
    "# Örnek kullanım \n",
    "arr = [1,3,5,7,9,11,13,15]\n",
    "target = 7\n",
    "print(binary_search_recursive(arr, target, 0, len(arr) - 1))  "
   ]
  }
 ],
 "metadata": {
  "kernelspec": {
   "display_name": "Python 3",
   "language": "python",
   "name": "python3"
  },
  "language_info": {
   "codemirror_mode": {
    "name": "ipython",
    "version": 3
   },
   "file_extension": ".py",
   "mimetype": "text/x-python",
   "name": "python",
   "nbconvert_exporter": "python",
   "pygments_lexer": "ipython3",
   "version": "3.10.8"
  }
 },
 "nbformat": 4,
 "nbformat_minor": 2
}
