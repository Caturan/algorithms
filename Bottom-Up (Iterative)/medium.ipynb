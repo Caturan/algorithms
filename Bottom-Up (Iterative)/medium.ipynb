{
 "cells": [
  {
   "cell_type": "markdown",
   "metadata": {},
   "source": [
    "# Bottom-Up (Iterative)"
   ]
  },
  {
   "cell_type": "markdown",
   "metadata": {},
   "source": [
    "Bottom-Up yaklaşımı, genellikle iteratif bir yöntem kullanılır ve tablo doldurma (tabulation) ile desteklenir: \n",
    "1. Tablo Oluşturma: Küçük alt problemlerin çözümleri, iteratif olarak tabloya yazılır. \n",
    "2. Alt Problemlerden Başlama: Küçük alt problemlerin çözümlerini bulup tabloya yazarak başlanır.\n",
    "3. Ana Problemi Çözme: Alt problemlerin çözümleri kullanılarak ana problem çözülür. \n",
    "\n",
    "Bu yöntem, problemin çözümüne en alt seviyeden (en küçük alt problemlerden) başlar ve ana probleme doğru çıkar. "
   ]
  },
  {
   "cell_type": "code",
   "execution_count": 4,
   "metadata": {},
   "outputs": [
    {
     "name": "stdout",
     "output_type": "stream",
     "text": [
      "55\n"
     ]
    }
   ],
   "source": [
    "def fib(n):\n",
    "    if n <= 1:\n",
    "        return n \n",
    "    dp = [0] * (n + 1)\n",
    "    dp[1] = 1\n",
    "    for i in range(2, n+1):\n",
    "        dp[i] = dp[i-1] + dp[i-2]\n",
    "    return dp[n]\n",
    "\n",
    "print(fib(10))"
   ]
  }
 ],
 "metadata": {
  "kernelspec": {
   "display_name": "Python 3",
   "language": "python",
   "name": "python3"
  },
  "language_info": {
   "codemirror_mode": {
    "name": "ipython",
    "version": 3
   },
   "file_extension": ".py",
   "mimetype": "text/x-python",
   "name": "python",
   "nbconvert_exporter": "python",
   "pygments_lexer": "ipython3",
   "version": "3.10.8"
  }
 },
 "nbformat": 4,
 "nbformat_minor": 2
}
