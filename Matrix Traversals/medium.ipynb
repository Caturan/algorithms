{
 "cells": [
  {
   "cell_type": "markdown",
   "metadata": {},
   "source": [
    "# Matrix Traversals"
   ]
  },
  {
   "cell_type": "markdown",
   "metadata": {},
   "source": [
    "Matrix Traversals, bir matrisin tüm elemanlarını belirli bir sırayla ziyaret etmek için kullanılan bir tekniktir. Örneğin, bir matrisi satır, sütun veya belirli bir desen (örneğin, zigzag veya dairesel) kullanarak gezinmek mümkündür. "
   ]
  },
  {
   "cell_type": "markdown",
   "metadata": {},
   "source": [
    "## Row Based Matrix Traversal \n",
    "### Matrisin her bir satırı ziyaret edilir."
   ]
  },
  {
   "cell_type": "code",
   "execution_count": 3,
   "metadata": {},
   "outputs": [
    {
     "name": "stdout",
     "output_type": "stream",
     "text": [
      "[1, 2, 3, 4, 5, 6, 7, 8, 9]\n"
     ]
    }
   ],
   "source": [
    " matrix = [\n",
    "    [1, 2, 3],\n",
    "    [4, 5, 6],\n",
    "    [7, 8, 9]\n",
    "]\n",
    "result = []\n",
    "for row in matrix:\n",
    "    result.extend(row)\n",
    "\n",
    "print(result)"
   ]
  },
  {
   "cell_type": "markdown",
   "metadata": {},
   "source": [
    "## Col Based Matrix Traversal \n",
    "### Matrisin her bir sütunu sırayla ziyaret edilir. "
   ]
  },
  {
   "cell_type": "code",
   "execution_count": 4,
   "metadata": {},
   "outputs": [
    {
     "name": "stdout",
     "output_type": "stream",
     "text": [
      "[1, 4, 7, 2, 5, 8, 3, 6, 9]\n"
     ]
    }
   ],
   "source": [
    "matrix = [\n",
    "    [1, 2, 3],\n",
    "    [4, 5, 6],\n",
    "    [7, 8, 9]\n",
    "]\n",
    "result = []\n",
    "for col in range(len(matrix[0])):\n",
    "    for row in matrix:\n",
    "        result.append(row[col])\n",
    "print(result)"
   ]
  },
  {
   "cell_type": "markdown",
   "metadata": {},
   "source": [
    "## Zigzag Matrix Traversa \n",
    "### Matrisin satırları sırayla, taranır, ancak her bir satırda bir sonraki satıra geçiş yönü değiştirilir. "
   ]
  },
  {
   "cell_type": "code",
   "execution_count": 7,
   "metadata": {},
   "outputs": [
    {
     "name": "stdout",
     "output_type": "stream",
     "text": [
      "3\n",
      "[1, 2, 3, 6, 5, 4, 7, 8, 9]\n"
     ]
    }
   ],
   "source": [
    "matrix = [\n",
    "    [1, 2, 3],\n",
    "    [4, 5, 6],\n",
    "    [7, 8, 9]\n",
    "]\n",
    "result = []\n",
    "for i, row in enumerate(matrix):\n",
    "    if i % 2 == 0:\n",
    "        result.extend(row)\n",
    "    else:\n",
    "        result.extend(row[::-1])\n",
    "print(result)"
   ]
  },
  {
   "cell_type": "markdown",
   "metadata": {},
   "source": [
    "## Diagonal Matrix Traversal \n",
    "### Diagonal traversal, bir matrisin ana veya ikincil diyagonal boyunca ziyaret edilmesini sağlar. \n",
    "- Ana Diagonal: Sol üstten sağ alta doğru olan diyagonal. \n",
    "- İkincil Diagonal: Sağ üstten sol alta doğru olan diyagonal."
   ]
  },
  {
   "cell_type": "code",
   "execution_count": 12,
   "metadata": {},
   "outputs": [
    {
     "name": "stdout",
     "output_type": "stream",
     "text": [
      "[1, 5, 9]\n",
      "[3, 5, 7]\n"
     ]
    }
   ],
   "source": [
    "matrix = [\n",
    "    [1, 2, 3],\n",
    "    [4, 5, 6],\n",
    "    [7, 8, 9]\n",
    "]\n",
    "# Ana diagonal traversal \n",
    "result1 = [matrix[i][i] for i in range (len(matrix))]\n",
    "\n",
    "# İkincil diagonal traversal (\n",
    "result2 = [matrix[i][len(matrix)-1-i] for i in range (len(matrix))] \n",
    "\n",
    "print(result1)\n",
    "print(result2)"
   ]
  },
  {
   "cell_type": "markdown",
   "metadata": {},
   "source": [
    "## Spiral Matrix Traversal \n",
    "### Spiral traversal, bir matrisin dış kenarından başlayarak içeri doğru dairesel bir şekilde ziyaret edilmesini sağlar. "
   ]
  },
  {
   "cell_type": "code",
   "execution_count": 2,
   "metadata": {},
   "outputs": [
    {
     "name": "stdout",
     "output_type": "stream",
     "text": [
      "[1, 2, 3, 6, 9, 8, 7, 4, 5]\n"
     ]
    }
   ],
   "source": [
    "def spiral_traversal(matrix):\n",
    "    result = []\n",
    "    while matrix:\n",
    "        result.extend(matrix.pop(0)) # Soldaki sütun \n",
    "        if matrix and matrix[0]:    # Alt satır\n",
    "            for row in matrix:\n",
    "                result.append(row.pop())\n",
    "        if matrix:  # Sağdaki sütun\n",
    "            result.extend(matrix.pop()[::-1])\n",
    "        if matrix and matrix[0]:    # Üst satır\n",
    "            for row in matrix[::-1]:\n",
    "                result.append(row.pop(0))\n",
    "    return result \n",
    "\n",
    "matrix = [\n",
    "    [1,2,3],\n",
    "    [4,5,6],9\n",
    "    [7,8,9]\n",
    "]\n",
    "print(spiral_traversal(matrix))"
   ]
  },
  {
   "cell_type": "markdown",
   "metadata": {},
   "source": [
    "## Matrix Traversal & DFS\n",
    "### DFS kullanarak matrix traversali yapmak için bir başlangıç düğümünden başlayarak derinleme (depth) yaparız. DFS, matristeki herhangi bir yönde derinleme yapabilir ve daha sonra geri dönerek diğer yolları keşfetmeye devam eder. "
   ]
  },
  {
   "cell_type": "code",
   "execution_count": 6,
   "metadata": {},
   "outputs": [
    {
     "name": "stdout",
     "output_type": "stream",
     "text": [
      "[1, 2, 3, 6, 9, 8, 7, 4, 5]\n"
     ]
    }
   ],
   "source": [
    "def dfs_matrix_traversal(matrix):\n",
    "    if not matrix:\n",
    "        return []\n",
    "\n",
    "    directions = [(0,1), (1,0), (0,-1), (-1,0)] # Sağ, Aşşağı, Sol, Yukarı\n",
    "    rows, cols = len(matrix), len(matrix[0])\n",
    "    visited = set()\n",
    "    traversal = []\n",
    "\n",
    "    def dfs(row, col):\n",
    "        if (row, col) in visited:\n",
    "            return\n",
    "        visited.add((row, col))\n",
    "        traversal.append(matrix[row][col]) \n",
    "\n",
    "        for dr, dc in directions:\n",
    "            new_row, new_col = row + dr, col + dc \n",
    "            if 0 <= new_row < rows and 0 <= new_col < cols:\n",
    "                dfs(new_row,new_col)\n",
    "    \n",
    "    dfs(0,0)\n",
    "    return traversal\n",
    "\n",
    "matrix = [\n",
    "    [1,2,3],\n",
    "    [4,5,6],\n",
    "    [7,8,9]\n",
    "]\n",
    "print(dfs_matrix_traversal(matrix))"
   ]
  },
  {
   "cell_type": "markdown",
   "metadata": {},
   "source": [
    "## Matrix Traversal & BFS\n",
    "### BFS kullanarak matris traversali yapmak için her seviyede sırayla tüm düğümleri ziyaret ederiz. Matrisin bir düğüm olarak ele alındığı bir BFS uygulamasında, her bir düğümü ziyaret ettiğimizde komşu düğümleri bir kuyruğa ekleriz ve sonra bu kuyruktan çıkarırız."
   ]
  },
  {
   "cell_type": "code",
   "execution_count": null,
   "metadata": {},
   "outputs": [],
   "source": [
    "from collections import deque\n",
    "\n",
    "def bfs_matrix_traversal(matrix):\n",
    "    if not matrix:\n",
    "        return []\n",
    "\n",
    "    rows, cols = len(matrix), len(matrix[0])\n",
    "    visited = set()\n",
    "    traversal = []\n",
    "\n",
    "    directions = [(0,1), (1,0), (0,-1), (-1,0)] # Sağ, Aşşağı, Sol, Yukarı\n",
    "\n",
    "    queue = deque([0,0])\n",
    "    visited.add((0,0))\n",
    "\n",
    "    while queue:\n",
    "        row, col = queue.popleft()\n",
    "        traversal.append(matrix[row][col])\n",
    "\n",
    "        for dr, dc in directions:\n",
    "            new_row, new_col = row + dr, col + dc \n",
    "            if 0 <= new_row < rows and 0 <= new_col < cols and (new_row, new_col) not in visited:\n",
    "                queue.append((new_row, new_col))\n",
    "                visited.add((new_row, new_col))\n",
    "        \n",
    "    return traversal\n",
    "\n",
    "matrix = [\n",
    "    [1,2,3],\n",
    "    [4,5,6],\n",
    "    [7,8,9]\n",
    "]\n",
    "\n",
    "print(bfs_matrix_traversal(matrix))"
   ]
  }
 ],
 "metadata": {
  "kernelspec": {
   "display_name": "Python 3",
   "language": "python",
   "name": "python3"
  },
  "language_info": {
   "codemirror_mode": {
    "name": "ipython",
    "version": 3
   },
   "file_extension": ".py",
   "mimetype": "text/x-python",
   "name": "python",
   "nbconvert_exporter": "python",
   "pygments_lexer": "ipython3",
   "version": "3.10.8"
  }
 },
 "nbformat": 4,
 "nbformat_minor": 2
}
